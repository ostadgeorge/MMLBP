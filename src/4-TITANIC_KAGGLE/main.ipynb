{
 "cells": [
  {
   "cell_type": "code",
   "execution_count": 18,
   "metadata": {
    "collapsed": true
   },
   "outputs": [],
   "source": [
    "import numpy as np\n",
    "import pandas as pd\n",
    "import matplotlib.pyplot as plt\n",
    "import sklearn\n",
    "import tensorflow as tf\n",
    "import tensorflow.keras as keras"
   ]
  },
  {
   "cell_type": "code",
   "execution_count": 19,
   "outputs": [],
   "source": [
    "df_train = pd.read_csv(\"./data/train.csv\")\n",
    "df_test = pd.read_csv(\"./data/test.csv\")"
   ],
   "metadata": {
    "collapsed": false,
    "pycharm": {
     "name": "#%%\n"
    }
   }
  },
  {
   "cell_type": "code",
   "execution_count": 20,
   "outputs": [],
   "source": [
    "del df_train[\"PassengerId\"]\n",
    "del df_train[\"Name\"]\n",
    "del df_train[\"Ticket\"]\n",
    "del df_train[\"Cabin\"]\n"
   ],
   "metadata": {
    "collapsed": false,
    "pycharm": {
     "name": "#%%\n"
    }
   }
  },
  {
   "cell_type": "code",
   "execution_count": 21,
   "outputs": [
    {
     "data": {
      "text/plain": "   Survived  Pclass     Sex   Age  SibSp  Parch     Fare Embarked\n0         0       3    male  22.0      1      0   7.2500        S\n1         1       1  female  38.0      1      0  71.2833        C\n2         1       3  female  26.0      0      0   7.9250        S\n3         1       1  female  35.0      1      0  53.1000        S\n4         0       3    male  35.0      0      0   8.0500        S",
      "text/html": "<div>\n<style scoped>\n    .dataframe tbody tr th:only-of-type {\n        vertical-align: middle;\n    }\n\n    .dataframe tbody tr th {\n        vertical-align: top;\n    }\n\n    .dataframe thead th {\n        text-align: right;\n    }\n</style>\n<table border=\"1\" class=\"dataframe\">\n  <thead>\n    <tr style=\"text-align: right;\">\n      <th></th>\n      <th>Survived</th>\n      <th>Pclass</th>\n      <th>Sex</th>\n      <th>Age</th>\n      <th>SibSp</th>\n      <th>Parch</th>\n      <th>Fare</th>\n      <th>Embarked</th>\n    </tr>\n  </thead>\n  <tbody>\n    <tr>\n      <th>0</th>\n      <td>0</td>\n      <td>3</td>\n      <td>male</td>\n      <td>22.0</td>\n      <td>1</td>\n      <td>0</td>\n      <td>7.2500</td>\n      <td>S</td>\n    </tr>\n    <tr>\n      <th>1</th>\n      <td>1</td>\n      <td>1</td>\n      <td>female</td>\n      <td>38.0</td>\n      <td>1</td>\n      <td>0</td>\n      <td>71.2833</td>\n      <td>C</td>\n    </tr>\n    <tr>\n      <th>2</th>\n      <td>1</td>\n      <td>3</td>\n      <td>female</td>\n      <td>26.0</td>\n      <td>0</td>\n      <td>0</td>\n      <td>7.9250</td>\n      <td>S</td>\n    </tr>\n    <tr>\n      <th>3</th>\n      <td>1</td>\n      <td>1</td>\n      <td>female</td>\n      <td>35.0</td>\n      <td>1</td>\n      <td>0</td>\n      <td>53.1000</td>\n      <td>S</td>\n    </tr>\n    <tr>\n      <th>4</th>\n      <td>0</td>\n      <td>3</td>\n      <td>male</td>\n      <td>35.0</td>\n      <td>0</td>\n      <td>0</td>\n      <td>8.0500</td>\n      <td>S</td>\n    </tr>\n  </tbody>\n</table>\n</div>"
     },
     "execution_count": 21,
     "metadata": {},
     "output_type": "execute_result"
    }
   ],
   "source": [
    "df_train.head()"
   ],
   "metadata": {
    "collapsed": false,
    "pycharm": {
     "name": "#%%\n"
    }
   }
  },
  {
   "cell_type": "code",
   "execution_count": 22,
   "outputs": [],
   "source": [
    "df_train = pd.get_dummies(df_train, columns=[\"Sex\", \"Embarked\"])"
   ],
   "metadata": {
    "collapsed": false,
    "pycharm": {
     "name": "#%%\n"
    }
   }
  },
  {
   "cell_type": "code",
   "execution_count": 23,
   "outputs": [],
   "source": [
    "y_train = df_train[\"Survived\"].astype(\"float32\")\n",
    "del df_train[\"Survived\"]\n",
    "x_train = df_train.astype(\"float32\")"
   ],
   "metadata": {
    "collapsed": false,
    "pycharm": {
     "name": "#%%\n"
    }
   }
  },
  {
   "cell_type": "code",
   "execution_count": 33,
   "outputs": [
    {
     "data": {
      "text/plain": "(891, 10)"
     },
     "execution_count": 33,
     "metadata": {},
     "output_type": "execute_result"
    }
   ],
   "source": [
    "x_train.fillna(0.)\n",
    "x_train.shape"
   ],
   "metadata": {
    "collapsed": false,
    "pycharm": {
     "name": "#%%\n"
    }
   }
  },
  {
   "cell_type": "code",
   "execution_count": 34,
   "outputs": [],
   "source": [
    "class Net(keras.Model):\n",
    "    def __init__(self, in_feature, out_feature, **kwargs):\n",
    "        super().__init__(**kwargs)\n",
    "        self.fc1 = keras.layers.Dense(units=64, activation=tf.nn.relu)\n",
    "        self.fc2 = keras.layers.Dense(units=128, activation=tf.nn.relu)\n",
    "        self.fc3 = keras.layers.Dense(units=1)\n",
    "\n",
    "    def call(self, x):\n",
    "        x = self.fc1(x)\n",
    "        x = self.fc2(x)\n",
    "        x = self.fc3(x)\n",
    "        return x\n",
    "\n",
    "\n",
    "optim = keras.optimizers.Adam(learning_rate=0.005)\n",
    "loss = keras.losses.BinaryCrossentropy()\n",
    "net = Net(10, 1)"
   ],
   "metadata": {
    "collapsed": false,
    "pycharm": {
     "name": "#%%\n"
    }
   }
  },
  {
   "cell_type": "code",
   "execution_count": 35,
   "outputs": [],
   "source": [
    "net.compile(optimizer=optim, loss=loss, metrics=tf.metrics.binary_accuracy)"
   ],
   "metadata": {
    "collapsed": false,
    "pycharm": {
     "name": "#%%\n"
    }
   }
  },
  {
   "cell_type": "code",
   "execution_count": 36,
   "outputs": [
    {
     "name": "stdout",
     "output_type": "stream",
     "text": [
      "Epoch 1/100\n",
      "26/26 [==============================] - 0s 7ms/step - loss: nan - binary_accuracy: 0.6167 - val_loss: nan - val_binary_accuracy: 0.6222\b\b\b\b\b\b\b\b\b\b\b\b\b\b\b\b\b\b\b\b\b\b\b\b\b\b\b\b\b\b\b\b\b\b\b\b\n",
      "Epoch 2/100\n",
      "26/26 [==============================] - 0s 2ms/step - loss: nan - binary_accuracy: 0.6155 - val_loss: nan - val_binary_accuracy: 0.6222\b\b\b\b\b\b\b\b\b\b\b\b\b\b\b\b\b\b\b\b\b\b\b\b\b\b\b\b\b\b\b\b\b\b\b\b\n",
      "Epoch 3/100\n",
      "26/26 [==============================] - 0s 2ms/step - loss: nan - binary_accuracy: 0.6155 - val_loss: nan - val_binary_accuracy: 0.6222\b\b\b\b\b\b\b\b\b\b\b\b\b\b\b\b\b\b\b\b\b\b\b\b\b\b\b\b\b\b\b\b\b\b\b\b\n",
      "Epoch 4/100\n",
      "26/26 [==============================] - 0s 2ms/step - loss: nan - binary_accuracy: 0.6155 - val_loss: nan - val_binary_accuracy: 0.6222\b\b\b\b\b\b\b\b\b\b\b\b\b\b\b\b\b\b\b\b\b\b\b\b\b\b\b\b\b\b\b\b\b\b\b\b\n",
      "Epoch 5/100\n",
      "26/26 [==============================] - 0s 2ms/step - loss: nan - binary_accuracy: 0.6155 - val_loss: nan - val_binary_accuracy: 0.6222\b\b\b\b\b\b\b\b\b\b\b\b\b\b\b\b\b\b\b\b\b\b\b\b\b\b\b\b\b\b\b\b\b\b\b\b\n",
      "Epoch 6/100\n",
      "26/26 [==============================] - 0s 2ms/step - loss: nan - binary_accuracy: 0.6155 - val_loss: nan - val_binary_accuracy: 0.6222\b\b\b\b\b\b\b\b\b\b\b\b\b\b\b\b\b\b\b\b\b\b\b\b\b\b\b\b\b\b\b\b\b\b\b\b\n",
      "Epoch 7/100\n",
      "26/26 [==============================] - 0s 1ms/step - loss: nan - binary_accuracy: 0.6155 - val_loss: nan - val_binary_accuracy: 0.6222\b\b\b\b\b\b\b\b\b\b\b\b\b\b\b\b\b\b\b\b\b\b\b\b\b\b\b\b\b\b\b\b\b\b\b\b\n",
      "Epoch 8/100\n",
      "26/26 [==============================] - 0s 2ms/step - loss: nan - binary_accuracy: 0.6155 - val_loss: nan - val_binary_accuracy: 0.6222\b\b\b\b\b\b\b\b\b\b\b\b\b\b\b\b\b\b\b\b\b\b\b\b\b\b\b\b\b\b\b\b\b\b\b\b\n",
      "Epoch 9/100\n",
      "26/26 [==============================] - 0s 2ms/step - loss: nan - binary_accuracy: 0.6155 - val_loss: nan - val_binary_accuracy: 0.6222\b\b\b\b\b\b\b\b\b\b\b\b\b\b\b\b\b\b\b\b\b\b\b\b\b\b\b\b\b\b\b\b\b\b\b\b\n",
      "Epoch 10/100\n",
      "26/26 [==============================] - 0s 1ms/step - loss: nan - binary_accuracy: 0.6155 - val_loss: nan - val_binary_accuracy: 0.6222\b\b\b\b\b\b\b\b\b\b\b\b\b\b\b\b\b\b\b\b\b\b\b\b\b\b\b\b\b\b\b\b\b\b\b\b\n",
      "Epoch 11/100\n",
      "26/26 [==============================] - 0s 2ms/step - loss: nan - binary_accuracy: 0.6155 - val_loss: nan - val_binary_accuracy: 0.6222\b\b\b\b\b\b\b\b\b\b\b\b\b\b\b\b\b\b\b\b\b\b\b\b\b\b\b\b\b\b\b\b\b\b\b\b\n",
      "Epoch 12/100\n",
      "26/26 [==============================] - 0s 1ms/step - loss: nan - binary_accuracy: 0.6155 - val_loss: nan - val_binary_accuracy: 0.6222\b\b\b\b\b\b\b\b\b\b\b\b\b\b\b\b\b\b\b\b\b\b\b\b\b\b\b\b\b\b\b\b\b\b\b\b\n",
      "Epoch 13/100\n",
      "26/26 [==============================] - 0s 1ms/step - loss: nan - binary_accuracy: 0.6155 - val_loss: nan - val_binary_accuracy: 0.6222\b\b\b\b\b\b\b\b\b\b\b\b\b\b\b\b\b\b\b\b\b\b\b\b\b\b\b\b\b\b\b\b\b\b\b\b\n",
      "Epoch 14/100\n",
      "26/26 [==============================] - 0s 1ms/step - loss: nan - binary_accuracy: 0.6155 - val_loss: nan - val_binary_accuracy: 0.6222\b\b\b\b\b\b\b\b\b\b\b\b\b\b\b\b\b\b\b\b\b\b\b\b\b\b\b\b\b\b\b\b\b\b\b\b\n",
      "Epoch 15/100\n",
      "26/26 [==============================] - 0s 1ms/step - loss: nan - binary_accuracy: 0.6155 - val_loss: nan - val_binary_accuracy: 0.6222\b\b\b\b\b\b\b\b\b\b\b\b\b\b\b\b\b\b\b\b\b\b\b\b\b\b\b\b\b\b\b\b\b\b\b\b\n",
      "Epoch 16/100\n",
      "26/26 [==============================] - 0s 1ms/step - loss: nan - binary_accuracy: 0.6155 - val_loss: nan - val_binary_accuracy: 0.6222\b\b\b\b\b\b\b\b\b\b\b\b\b\b\b\b\b\b\b\b\b\b\b\b\b\b\b\b\b\b\b\b\b\b\b\b\n",
      "Epoch 17/100\n",
      "26/26 [==============================] - 0s 2ms/step - loss: nan - binary_accuracy: 0.6155 - val_loss: nan - val_binary_accuracy: 0.6222\b\b\b\b\b\b\b\b\b\b\b\b\b\b\b\b\b\b\b\b\b\b\b\b\b\b\b\b\b\b\b\b\b\b\b\b\n",
      "Epoch 18/100\n",
      "26/26 [==============================] - 0s 1ms/step - loss: nan - binary_accuracy: 0.6155 - val_loss: nan - val_binary_accuracy: 0.6222\b\b\b\b\b\b\b\b\b\b\b\b\b\b\b\b\b\b\b\b\b\b\b\b\b\b\b\b\b\b\b\b\b\b\b\b\n",
      "Epoch 19/100\n",
      "26/26 [==============================] - 0s 1ms/step - loss: nan - binary_accuracy: 0.6155 - val_loss: nan - val_binary_accuracy: 0.6222\b\b\b\b\b\b\b\b\b\b\b\b\b\b\b\b\b\b\b\b\b\b\b\b\b\b\b\b\b\b\b\b\b\b\b\b\n",
      "Epoch 20/100\n",
      "26/26 [==============================] - 0s 1ms/step - loss: nan - binary_accuracy: 0.6155 - val_loss: nan - val_binary_accuracy: 0.6222\b\b\b\b\b\b\b\b\b\b\b\b\b\b\b\b\b\b\b\b\b\b\b\b\b\b\b\b\b\b\b\b\b\b\b\b\n",
      "Epoch 21/100\n",
      "26/26 [==============================] - 0s 2ms/step - loss: nan - binary_accuracy: 0.6155 - val_loss: nan - val_binary_accuracy: 0.6222\b\b\b\b\b\b\b\b\b\b\b\b\b\b\b\b\b\b\b\b\b\b\b\b\b\b\b\b\b\b\b\b\b\b\b\b\n",
      "Epoch 22/100\n",
      "26/26 [==============================] - 0s 2ms/step - loss: nan - binary_accuracy: 0.6155 - val_loss: nan - val_binary_accuracy: 0.6222\b\b\b\b\b\b\b\b\b\b\b\b\b\b\b\b\b\b\b\b\b\b\b\b\b\b\b\b\b\b\b\b\b\b\b\b\n",
      "Epoch 23/100\n",
      "26/26 [==============================] - 0s 2ms/step - loss: nan - binary_accuracy: 0.6155 - val_loss: nan - val_binary_accuracy: 0.6222\b\b\b\b\b\b\b\b\b\b\b\b\b\b\b\b\b\b\b\b\b\b\b\b\b\b\b\b\b\b\b\b\b\b\b\b\n",
      "Epoch 24/100\n",
      "26/26 [==============================] - 0s 2ms/step - loss: nan - binary_accuracy: 0.6155 - val_loss: nan - val_binary_accuracy: 0.6222\b\b\b\b\b\b\b\b\b\b\b\b\b\b\b\b\b\b\b\b\b\b\b\b\b\b\b\b\b\b\b\b\b\b\b\b\n",
      "Epoch 25/100\n",
      "26/26 [==============================] - 0s 2ms/step - loss: nan - binary_accuracy: 0.6155 - val_loss: nan - val_binary_accuracy: 0.6222\b\b\b\b\b\b\b\b\b\b\b\b\b\b\b\b\b\b\b\b\b\b\b\b\b\b\b\b\b\b\b\b\b\b\b\b\n",
      "Epoch 26/100\n",
      "26/26 [==============================] - 0s 2ms/step - loss: nan - binary_accuracy: 0.6155 - val_loss: nan - val_binary_accuracy: 0.6222\b\b\b\b\b\b\b\b\b\b\b\b\b\b\b\b\b\b\b\b\b\b\b\b\b\b\b\b\b\b\b\b\b\b\b\b\n",
      "Epoch 27/100\n",
      "26/26 [==============================] - 0s 1ms/step - loss: nan - binary_accuracy: 0.6155 - val_loss: nan - val_binary_accuracy: 0.6222\b\b\b\b\b\b\b\b\b\b\b\b\b\b\b\b\b\b\b\b\b\b\b\b\b\b\b\b\b\b\b\b\b\b\b\b\n",
      "Epoch 28/100\n",
      "26/26 [==============================] - 0s 1ms/step - loss: nan - binary_accuracy: 0.6155 - val_loss: nan - val_binary_accuracy: 0.6222\b\b\b\b\b\b\b\b\b\b\b\b\b\b\b\b\b\b\b\b\b\b\b\b\b\b\b\b\b\b\b\b\b\b\b\b\n",
      "Epoch 29/100\n",
      "26/26 [==============================] - 0s 1ms/step - loss: nan - binary_accuracy: 0.6155 - val_loss: nan - val_binary_accuracy: 0.6222\b\b\b\b\b\b\b\b\b\b\b\b\b\b\b\b\b\b\b\b\b\b\b\b\b\b\b\b\b\b\b\b\b\b\b\b\n",
      "Epoch 30/100\n",
      "26/26 [==============================] - 0s 1ms/step - loss: nan - binary_accuracy: 0.6155 - val_loss: nan - val_binary_accuracy: 0.6222\b\b\b\b\b\b\b\b\b\b\b\b\b\b\b\b\b\b\b\b\b\b\b\b\b\b\b\b\b\b\b\b\b\b\b\b\n",
      "Epoch 31/100\n",
      "26/26 [==============================] - 0s 2ms/step - loss: nan - binary_accuracy: 0.6155 - val_loss: nan - val_binary_accuracy: 0.6222\b\b\b\b\b\b\b\b\b\b\b\b\b\b\b\b\b\b\b\b\b\b\b\b\b\b\b\b\b\b\b\b\b\b\b\b\n",
      "Epoch 32/100\n",
      "26/26 [==============================] - 0s 1ms/step - loss: nan - binary_accuracy: 0.6155 - val_loss: nan - val_binary_accuracy: 0.6222\b\b\b\b\b\b\b\b\b\b\b\b\b\b\b\b\b\b\b\b\b\b\b\b\b\b\b\b\b\b\b\b\b\b\b\b\n",
      "Epoch 33/100\n",
      "26/26 [==============================] - 0s 1ms/step - loss: nan - binary_accuracy: 0.6155 - val_loss: nan - val_binary_accuracy: 0.6222\b\b\b\b\b\b\b\b\b\b\b\b\b\b\b\b\b\b\b\b\b\b\b\b\b\b\b\b\b\b\b\b\b\b\b\b\n",
      "Epoch 34/100\n",
      "26/26 [==============================] - 0s 1ms/step - loss: nan - binary_accuracy: 0.6155 - val_loss: nan - val_binary_accuracy: 0.6222\b\b\b\b\b\b\b\b\b\b\b\b\b\b\b\b\b\b\b\b\b\b\b\b\b\b\b\b\b\b\b\b\b\b\b\b\n",
      "Epoch 35/100\n",
      "26/26 [==============================] - 0s 2ms/step - loss: nan - binary_accuracy: 0.6155 - val_loss: nan - val_binary_accuracy: 0.6222\b\b\b\b\b\b\b\b\b\b\b\b\b\b\b\b\b\b\b\b\b\b\b\b\b\b\b\b\b\b\b\b\b\b\b\b\n",
      "Epoch 36/100\n",
      "26/26 [==============================] - 0s 2ms/step - loss: nan - binary_accuracy: 0.6155 - val_loss: nan - val_binary_accuracy: 0.6222\b\b\b\b\b\b\b\b\b\b\b\b\b\b\b\b\b\b\b\b\b\b\b\b\b\b\b\b\b\b\b\b\b\b\b\b\n",
      "Epoch 37/100\n",
      "26/26 [==============================] - 0s 1ms/step - loss: nan - binary_accuracy: 0.6155 - val_loss: nan - val_binary_accuracy: 0.6222\b\b\b\b\b\b\b\b\b\b\b\b\b\b\b\b\b\b\b\b\b\b\b\b\b\b\b\b\b\b\b\b\b\b\b\b\n",
      "Epoch 38/100\n",
      "26/26 [==============================] - 0s 2ms/step - loss: nan - binary_accuracy: 0.6155 - val_loss: nan - val_binary_accuracy: 0.6222\b\b\b\b\b\b\b\b\b\b\b\b\b\b\b\b\b\b\b\b\b\b\b\b\b\b\b\b\b\b\b\b\b\b\b\b\n",
      "Epoch 39/100\n",
      "26/26 [==============================] - 0s 1ms/step - loss: nan - binary_accuracy: 0.6155 - val_loss: nan - val_binary_accuracy: 0.6222\b\b\b\b\b\b\b\b\b\b\b\b\b\b\b\b\b\b\b\b\b\b\b\b\b\b\b\b\b\b\b\b\b\b\b\b\n",
      "Epoch 40/100\n",
      "26/26 [==============================] - 0s 2ms/step - loss: nan - binary_accuracy: 0.6155 - val_loss: nan - val_binary_accuracy: 0.6222\b\b\b\b\b\b\b\b\b\b\b\b\b\b\b\b\b\b\b\b\b\b\b\b\b\b\b\b\b\b\b\b\b\b\b\b\n",
      "Epoch 41/100\n",
      "26/26 [==============================] - 0s 2ms/step - loss: nan - binary_accuracy: 0.6155 - val_loss: nan - val_binary_accuracy: 0.6222\b\b\b\b\b\b\b\b\b\b\b\b\b\b\b\b\b\b\b\b\b\b\b\b\b\b\b\b\b\b\b\b\b\b\b\b\n",
      "Epoch 42/100\n",
      "26/26 [==============================] - 0s 1ms/step - loss: nan - binary_accuracy: 0.6155 - val_loss: nan - val_binary_accuracy: 0.6222\b\b\b\b\b\b\b\b\b\b\b\b\b\b\b\b\b\b\b\b\b\b\b\b\b\b\b\b\b\b\b\b\b\b\b\b\n",
      "Epoch 43/100\n",
      "26/26 [==============================] - 0s 1ms/step - loss: nan - binary_accuracy: 0.6155 - val_loss: nan - val_binary_accuracy: 0.6222\b\b\b\b\b\b\b\b\b\b\b\b\b\b\b\b\b\b\b\b\b\b\b\b\b\b\b\b\b\b\b\b\b\b\b\b\n",
      "Epoch 44/100\n",
      "26/26 [==============================] - 0s 1ms/step - loss: nan - binary_accuracy: 0.6155 - val_loss: nan - val_binary_accuracy: 0.6222\b\b\b\b\b\b\b\b\b\b\b\b\b\b\b\b\b\b\b\b\b\b\b\b\b\b\b\b\b\b\b\b\b\b\b\b\n",
      "Epoch 45/100\n",
      "26/26 [==============================] - 0s 2ms/step - loss: nan - binary_accuracy: 0.6155 - val_loss: nan - val_binary_accuracy: 0.6222\b\b\b\b\b\b\b\b\b\b\b\b\b\b\b\b\b\b\b\b\b\b\b\b\b\b\b\b\b\b\b\b\b\b\b\b\n",
      "Epoch 46/100\n",
      "26/26 [==============================] - 0s 2ms/step - loss: nan - binary_accuracy: 0.6155 - val_loss: nan - val_binary_accuracy: 0.6222\b\b\b\b\b\b\b\b\b\b\b\b\b\b\b\b\b\b\b\b\b\b\b\b\b\b\b\b\b\b\b\b\b\b\b\b\n",
      "Epoch 47/100\n",
      "26/26 [==============================] - 0s 1ms/step - loss: nan - binary_accuracy: 0.6155 - val_loss: nan - val_binary_accuracy: 0.6222\b\b\b\b\b\b\b\b\b\b\b\b\b\b\b\b\b\b\b\b\b\b\b\b\b\b\b\b\b\b\b\b\b\b\b\b\n",
      "Epoch 48/100\n",
      "26/26 [==============================] - 0s 1ms/step - loss: nan - binary_accuracy: 0.6155 - val_loss: nan - val_binary_accuracy: 0.6222\b\b\b\b\b\b\b\b\b\b\b\b\b\b\b\b\b\b\b\b\b\b\b\b\b\b\b\b\b\b\b\b\b\b\b\b\n",
      "Epoch 49/100\n",
      "26/26 [==============================] - 0s 1ms/step - loss: nan - binary_accuracy: 0.6155 - val_loss: nan - val_binary_accuracy: 0.6222\b\b\b\b\b\b\b\b\b\b\b\b\b\b\b\b\b\b\b\b\b\b\b\b\b\b\b\b\b\b\b\b\b\b\b\b\n",
      "Epoch 50/100\n",
      "26/26 [==============================] - 0s 1ms/step - loss: nan - binary_accuracy: 0.6155 - val_loss: nan - val_binary_accuracy: 0.6222\b\b\b\b\b\b\b\b\b\b\b\b\b\b\b\b\b\b\b\b\b\b\b\b\b\b\b\b\b\b\b\b\b\b\b\b\n",
      "Epoch 51/100\n",
      "26/26 [==============================] - 0s 2ms/step - loss: nan - binary_accuracy: 0.6155 - val_loss: nan - val_binary_accuracy: 0.6222\b\b\b\b\b\b\b\b\b\b\b\b\b\b\b\b\b\b\b\b\b\b\b\b\b\b\b\b\b\b\b\b\b\b\b\b\n",
      "Epoch 52/100\n",
      "26/26 [==============================] - 0s 2ms/step - loss: nan - binary_accuracy: 0.6155 - val_loss: nan - val_binary_accuracy: 0.6222\b\b\b\b\b\b\b\b\b\b\b\b\b\b\b\b\b\b\b\b\b\b\b\b\b\b\b\b\b\b\b\b\b\b\b\b\n",
      "Epoch 53/100\n",
      "26/26 [==============================] - 0s 1ms/step - loss: nan - binary_accuracy: 0.6155 - val_loss: nan - val_binary_accuracy: 0.6222\b\b\b\b\b\b\b\b\b\b\b\b\b\b\b\b\b\b\b\b\b\b\b\b\b\b\b\b\b\b\b\b\b\b\b\b\n",
      "Epoch 54/100\n",
      "26/26 [==============================] - 0s 1ms/step - loss: nan - binary_accuracy: 0.6155 - val_loss: nan - val_binary_accuracy: 0.6222\b\b\b\b\b\b\b\b\b\b\b\b\b\b\b\b\b\b\b\b\b\b\b\b\b\b\b\b\b\b\b\b\b\b\b\b\n",
      "Epoch 55/100\n",
      "26/26 [==============================] - 0s 2ms/step - loss: nan - binary_accuracy: 0.6155 - val_loss: nan - val_binary_accuracy: 0.6222\b\b\b\b\b\b\b\b\b\b\b\b\b\b\b\b\b\b\b\b\b\b\b\b\b\b\b\b\b\b\b\b\b\b\b\b\n",
      "Epoch 56/100\n",
      "26/26 [==============================] - 0s 2ms/step - loss: nan - binary_accuracy: 0.6155 - val_loss: nan - val_binary_accuracy: 0.6222\b\b\b\b\b\b\b\b\b\b\b\b\b\b\b\b\b\b\b\b\b\b\b\b\b\b\b\b\b\b\b\b\b\b\b\b\n",
      "Epoch 57/100\n",
      "26/26 [==============================] - 0s 1ms/step - loss: nan - binary_accuracy: 0.6155 - val_loss: nan - val_binary_accuracy: 0.6222\b\b\b\b\b\b\b\b\b\b\b\b\b\b\b\b\b\b\b\b\b\b\b\b\b\b\b\b\b\b\b\b\b\b\b\b\n",
      "Epoch 58/100\n",
      "26/26 [==============================] - 0s 1ms/step - loss: nan - binary_accuracy: 0.6155 - val_loss: nan - val_binary_accuracy: 0.6222\b\b\b\b\b\b\b\b\b\b\b\b\b\b\b\b\b\b\b\b\b\b\b\b\b\b\b\b\b\b\b\b\b\b\b\b\n",
      "Epoch 59/100\n",
      "26/26 [==============================] - 0s 2ms/step - loss: nan - binary_accuracy: 0.6155 - val_loss: nan - val_binary_accuracy: 0.6222\b\b\b\b\b\b\b\b\b\b\b\b\b\b\b\b\b\b\b\b\b\b\b\b\b\b\b\b\b\b\b\b\b\b\b\b\n",
      "Epoch 60/100\n",
      "26/26 [==============================] - 0s 2ms/step - loss: nan - binary_accuracy: 0.6155 - val_loss: nan - val_binary_accuracy: 0.6222\b\b\b\b\b\b\b\b\b\b\b\b\b\b\b\b\b\b\b\b\b\b\b\b\b\b\b\b\b\b\b\b\b\b\b\b\n",
      "Epoch 61/100\n",
      "26/26 [==============================] - 0s 2ms/step - loss: nan - binary_accuracy: 0.6155 - val_loss: nan - val_binary_accuracy: 0.6222\b\b\b\b\b\b\b\b\b\b\b\b\b\b\b\b\b\b\b\b\b\b\b\b\b\b\b\b\b\b\b\b\b\b\b\b\n",
      "Epoch 62/100\n",
      "26/26 [==============================] - 0s 2ms/step - loss: nan - binary_accuracy: 0.6155 - val_loss: nan - val_binary_accuracy: 0.6222\b\b\b\b\b\b\b\b\b\b\b\b\b\b\b\b\b\b\b\b\b\b\b\b\b\b\b\b\b\b\b\b\b\b\b\b\n",
      "Epoch 63/100\n",
      "26/26 [==============================] - 0s 2ms/step - loss: nan - binary_accuracy: 0.6155 - val_loss: nan - val_binary_accuracy: 0.6222\b\b\b\b\b\b\b\b\b\b\b\b\b\b\b\b\b\b\b\b\b\b\b\b\b\b\b\b\b\b\b\b\b\b\b\b\n",
      "Epoch 64/100\n",
      "26/26 [==============================] - 0s 2ms/step - loss: nan - binary_accuracy: 0.6155 - val_loss: nan - val_binary_accuracy: 0.6222\b\b\b\b\b\b\b\b\b\b\b\b\b\b\b\b\b\b\b\b\b\b\b\b\b\b\b\b\b\b\b\b\b\b\b\b\n",
      "Epoch 65/100\n",
      "26/26 [==============================] - 0s 2ms/step - loss: nan - binary_accuracy: 0.6155 - val_loss: nan - val_binary_accuracy: 0.6222\b\b\b\b\b\b\b\b\b\b\b\b\b\b\b\b\b\b\b\b\b\b\b\b\b\b\b\b\b\b\b\b\b\b\b\b\n",
      "Epoch 66/100\n",
      "26/26 [==============================] - 0s 2ms/step - loss: nan - binary_accuracy: 0.6155 - val_loss: nan - val_binary_accuracy: 0.6222\b\b\b\b\b\b\b\b\b\b\b\b\b\b\b\b\b\b\b\b\b\b\b\b\b\b\b\b\b\b\b\b\b\b\b\b\n",
      "Epoch 67/100\n",
      "26/26 [==============================] - 0s 2ms/step - loss: nan - binary_accuracy: 0.6155 - val_loss: nan - val_binary_accuracy: 0.6222\b\b\b\b\b\b\b\b\b\b\b\b\b\b\b\b\b\b\b\b\b\b\b\b\b\b\b\b\b\b\b\b\b\b\b\b\n",
      "Epoch 68/100\n",
      "26/26 [==============================] - 0s 1ms/step - loss: nan - binary_accuracy: 0.6155 - val_loss: nan - val_binary_accuracy: 0.6222\b\b\b\b\b\b\b\b\b\b\b\b\b\b\b\b\b\b\b\b\b\b\b\b\b\b\b\b\b\b\b\b\b\b\b\b\n",
      "Epoch 69/100\n",
      "26/26 [==============================] - 0s 2ms/step - loss: nan - binary_accuracy: 0.6155 - val_loss: nan - val_binary_accuracy: 0.6222\b\b\b\b\b\b\b\b\b\b\b\b\b\b\b\b\b\b\b\b\b\b\b\b\b\b\b\b\b\b\b\b\b\b\b\b\n",
      "Epoch 70/100\n",
      "26/26 [==============================] - 0s 2ms/step - loss: nan - binary_accuracy: 0.6155 - val_loss: nan - val_binary_accuracy: 0.6222\b\b\b\b\b\b\b\b\b\b\b\b\b\b\b\b\b\b\b\b\b\b\b\b\b\b\b\b\b\b\b\b\b\b\b\b\n",
      "Epoch 71/100\n",
      "26/26 [==============================] - 0s 1ms/step - loss: nan - binary_accuracy: 0.6155 - val_loss: nan - val_binary_accuracy: 0.6222\b\b\b\b\b\b\b\b\b\b\b\b\b\b\b\b\b\b\b\b\b\b\b\b\b\b\b\b\b\b\b\b\b\b\b\b\n",
      "Epoch 72/100\n",
      "26/26 [==============================] - 0s 1ms/step - loss: nan - binary_accuracy: 0.6155 - val_loss: nan - val_binary_accuracy: 0.6222\b\b\b\b\b\b\b\b\b\b\b\b\b\b\b\b\b\b\b\b\b\b\b\b\b\b\b\b\b\b\b\b\b\b\b\b\n",
      "Epoch 73/100\n",
      "26/26 [==============================] - 0s 1ms/step - loss: nan - binary_accuracy: 0.6155 - val_loss: nan - val_binary_accuracy: 0.6222\b\b\b\b\b\b\b\b\b\b\b\b\b\b\b\b\b\b\b\b\b\b\b\b\b\b\b\b\b\b\b\b\b\b\b\b\n",
      "Epoch 74/100\n",
      "26/26 [==============================] - 0s 2ms/step - loss: nan - binary_accuracy: 0.6155 - val_loss: nan - val_binary_accuracy: 0.6222\b\b\b\b\b\b\b\b\b\b\b\b\b\b\b\b\b\b\b\b\b\b\b\b\b\b\b\b\b\b\b\b\b\b\b\b\n",
      "Epoch 75/100\n",
      "26/26 [==============================] - 0s 2ms/step - loss: nan - binary_accuracy: 0.6155 - val_loss: nan - val_binary_accuracy: 0.6222\b\b\b\b\b\b\b\b\b\b\b\b\b\b\b\b\b\b\b\b\b\b\b\b\b\b\b\b\b\b\b\b\b\b\b\b\n",
      "Epoch 76/100\n",
      "26/26 [==============================] - 0s 2ms/step - loss: nan - binary_accuracy: 0.6155 - val_loss: nan - val_binary_accuracy: 0.6222\b\b\b\b\b\b\b\b\b\b\b\b\b\b\b\b\b\b\b\b\b\b\b\b\b\b\b\b\b\b\b\b\b\b\b\b\n",
      "Epoch 77/100\n",
      "26/26 [==============================] - 0s 2ms/step - loss: nan - binary_accuracy: 0.6155 - val_loss: nan - val_binary_accuracy: 0.6222\b\b\b\b\b\b\b\b\b\b\b\b\b\b\b\b\b\b\b\b\b\b\b\b\b\b\b\b\b\b\b\b\b\b\b\b\n",
      "Epoch 78/100\n",
      "26/26 [==============================] - 0s 2ms/step - loss: nan - binary_accuracy: 0.6155 - val_loss: nan - val_binary_accuracy: 0.6222\b\b\b\b\b\b\b\b\b\b\b\b\b\b\b\b\b\b\b\b\b\b\b\b\b\b\b\b\b\b\b\b\b\b\b\b\n",
      "Epoch 79/100\n",
      "26/26 [==============================] - 0s 2ms/step - loss: nan - binary_accuracy: 0.6155 - val_loss: nan - val_binary_accuracy: 0.6222\b\b\b\b\b\b\b\b\b\b\b\b\b\b\b\b\b\b\b\b\b\b\b\b\b\b\b\b\b\b\b\b\b\b\b\b\n",
      "Epoch 80/100\n",
      "26/26 [==============================] - 0s 2ms/step - loss: nan - binary_accuracy: 0.6155 - val_loss: nan - val_binary_accuracy: 0.6222\b\b\b\b\b\b\b\b\b\b\b\b\b\b\b\b\b\b\b\b\b\b\b\b\b\b\b\b\b\b\b\b\b\b\b\b\n",
      "Epoch 81/100\n",
      "26/26 [==============================] - 0s 1ms/step - loss: nan - binary_accuracy: 0.6155 - val_loss: nan - val_binary_accuracy: 0.6222\b\b\b\b\b\b\b\b\b\b\b\b\b\b\b\b\b\b\b\b\b\b\b\b\b\b\b\b\b\b\b\b\b\b\b\b\n",
      "Epoch 82/100\n",
      "26/26 [==============================] - 0s 1ms/step - loss: nan - binary_accuracy: 0.6155 - val_loss: nan - val_binary_accuracy: 0.6222\b\b\b\b\b\b\b\b\b\b\b\b\b\b\b\b\b\b\b\b\b\b\b\b\b\b\b\b\b\b\b\b\b\b\b\b\n",
      "Epoch 83/100\n",
      "26/26 [==============================] - 0s 2ms/step - loss: nan - binary_accuracy: 0.6155 - val_loss: nan - val_binary_accuracy: 0.6222\b\b\b\b\b\b\b\b\b\b\b\b\b\b\b\b\b\b\b\b\b\b\b\b\b\b\b\b\b\b\b\b\b\b\b\b\n",
      "Epoch 84/100\n",
      "26/26 [==============================] - 0s 1ms/step - loss: nan - binary_accuracy: 0.6155 - val_loss: nan - val_binary_accuracy: 0.6222\b\b\b\b\b\b\b\b\b\b\b\b\b\b\b\b\b\b\b\b\b\b\b\b\b\b\b\b\b\b\b\b\b\b\b\b\n",
      "Epoch 85/100\n",
      "26/26 [==============================] - 0s 1ms/step - loss: nan - binary_accuracy: 0.6155 - val_loss: nan - val_binary_accuracy: 0.6222\b\b\b\b\b\b\b\b\b\b\b\b\b\b\b\b\b\b\b\b\b\b\b\b\b\b\b\b\b\b\b\b\b\b\b\b\n",
      "Epoch 86/100\n",
      "26/26 [==============================] - 0s 1ms/step - loss: nan - binary_accuracy: 0.6155 - val_loss: nan - val_binary_accuracy: 0.6222\b\b\b\b\b\b\b\b\b\b\b\b\b\b\b\b\b\b\b\b\b\b\b\b\b\b\b\b\b\b\b\b\b\b\b\b\n",
      "Epoch 87/100\n",
      "26/26 [==============================] - 0s 1ms/step - loss: nan - binary_accuracy: 0.6155 - val_loss: nan - val_binary_accuracy: 0.6222\b\b\b\b\b\b\b\b\b\b\b\b\b\b\b\b\b\b\b\b\b\b\b\b\b\b\b\b\b\b\b\b\b\b\b\b\n",
      "Epoch 88/100\n",
      "26/26 [==============================] - 0s 2ms/step - loss: nan - binary_accuracy: 0.6155 - val_loss: nan - val_binary_accuracy: 0.6222\b\b\b\b\b\b\b\b\b\b\b\b\b\b\b\b\b\b\b\b\b\b\b\b\b\b\b\b\b\b\b\b\b\b\b\b\n",
      "Epoch 89/100\n",
      "26/26 [==============================] - 0s 2ms/step - loss: nan - binary_accuracy: 0.6155 - val_loss: nan - val_binary_accuracy: 0.6222\b\b\b\b\b\b\b\b\b\b\b\b\b\b\b\b\b\b\b\b\b\b\b\b\b\b\b\b\b\b\b\b\b\b\b\b\n",
      "Epoch 90/100\n",
      "26/26 [==============================] - 0s 1ms/step - loss: nan - binary_accuracy: 0.6155 - val_loss: nan - val_binary_accuracy: 0.6222\b\b\b\b\b\b\b\b\b\b\b\b\b\b\b\b\b\b\b\b\b\b\b\b\b\b\b\b\b\b\b\b\b\b\b\b\n",
      "Epoch 91/100\n",
      "26/26 [==============================] - 0s 1ms/step - loss: nan - binary_accuracy: 0.6155 - val_loss: nan - val_binary_accuracy: 0.6222\b\b\b\b\b\b\b\b\b\b\b\b\b\b\b\b\b\b\b\b\b\b\b\b\b\b\b\b\b\b\b\b\b\b\b\b\n",
      "Epoch 92/100\n",
      "26/26 [==============================] - 0s 2ms/step - loss: nan - binary_accuracy: 0.6155 - val_loss: nan - val_binary_accuracy: 0.6222\b\b\b\b\b\b\b\b\b\b\b\b\b\b\b\b\b\b\b\b\b\b\b\b\b\b\b\b\b\b\b\b\b\b\b\b\n",
      "Epoch 93/100\n",
      "26/26 [==============================] - 0s 2ms/step - loss: nan - binary_accuracy: 0.6155 - val_loss: nan - val_binary_accuracy: 0.6222\b\b\b\b\b\b\b\b\b\b\b\b\b\b\b\b\b\b\b\b\b\b\b\b\b\b\b\b\b\b\b\b\b\b\b\b\n",
      "Epoch 94/100\n",
      "26/26 [==============================] - 0s 1ms/step - loss: nan - binary_accuracy: 0.6155 - val_loss: nan - val_binary_accuracy: 0.6222\b\b\b\b\b\b\b\b\b\b\b\b\b\b\b\b\b\b\b\b\b\b\b\b\b\b\b\b\b\b\b\b\b\b\b\b\n",
      "Epoch 95/100\n",
      "26/26 [==============================] - 0s 1ms/step - loss: nan - binary_accuracy: 0.6155 - val_loss: nan - val_binary_accuracy: 0.6222\b\b\b\b\b\b\b\b\b\b\b\b\b\b\b\b\b\b\b\b\b\b\b\b\b\b\b\b\b\b\b\b\b\b\b\b\n",
      "Epoch 96/100\n",
      "26/26 [==============================] - 0s 1ms/step - loss: nan - binary_accuracy: 0.6155 - val_loss: nan - val_binary_accuracy: 0.6222\b\b\b\b\b\b\b\b\b\b\b\b\b\b\b\b\b\b\b\b\b\b\b\b\b\b\b\b\b\b\b\b\b\b\b\b\n",
      "Epoch 97/100\n",
      "26/26 [==============================] - 0s 1ms/step - loss: nan - binary_accuracy: 0.6155 - val_loss: nan - val_binary_accuracy: 0.6222\b\b\b\b\b\b\b\b\b\b\b\b\b\b\b\b\b\b\b\b\b\b\b\b\b\b\b\b\b\b\b\b\b\b\b\b\n",
      "Epoch 98/100\n",
      "26/26 [==============================] - 0s 2ms/step - loss: nan - binary_accuracy: 0.6155 - val_loss: nan - val_binary_accuracy: 0.6222\b\b\b\b\b\b\b\b\b\b\b\b\b\b\b\b\b\b\b\b\b\b\b\b\b\b\b\b\b\b\b\b\b\b\b\b\n",
      "Epoch 99/100\n",
      "26/26 [==============================] - 0s 1ms/step - loss: nan - binary_accuracy: 0.6155 - val_loss: nan - val_binary_accuracy: 0.6222\b\b\b\b\b\b\b\b\b\b\b\b\b\b\b\b\b\b\b\b\b\b\b\b\b\b\b\b\b\b\b\b\b\b\b\b\n",
      "Epoch 100/100\n",
      "26/26 [==============================] - 0s 1ms/step - loss: nan - binary_accuracy: 0.6155 - val_loss: nan - val_binary_accuracy: 0.6222\b\b\b\b\b\b\b\b\b\b\b\b\b\b\b\b\b\b\b\b\b\b\b\b\b\b\b\b\b\b\b\b\b\b\b\b\n"
     ]
    },
    {
     "data": {
      "text/plain": "<tensorflow.python.keras.callbacks.History at 0x7f7fd46caf70>"
     },
     "execution_count": 36,
     "metadata": {},
     "output_type": "execute_result"
    }
   ],
   "source": [
    "net.fit(x_train, y_train, epochs=100, batch_size=32, validation_split=.1)"
   ],
   "metadata": {
    "collapsed": false,
    "pycharm": {
     "name": "#%%\n"
    }
   }
  }
 ],
 "metadata": {
  "kernelspec": {
   "display_name": "Python 3",
   "language": "python",
   "name": "python3"
  },
  "language_info": {
   "codemirror_mode": {
    "name": "ipython",
    "version": 2
   },
   "file_extension": ".py",
   "mimetype": "text/x-python",
   "name": "python",
   "nbconvert_exporter": "python",
   "pygments_lexer": "ipython2",
   "version": "2.7.6"
  }
 },
 "nbformat": 4,
 "nbformat_minor": 0
}